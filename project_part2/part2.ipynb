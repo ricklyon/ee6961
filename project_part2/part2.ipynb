{
 "cells": [
  {
   "cell_type": "code",
   "execution_count": null,
   "metadata": {
    "editable": true,
    "slideshow": {
     "slide_type": ""
    },
    "tags": []
   },
   "outputs": [],
   "source": [
    "import numpy as np\n",
    "import matplotlib.pyplot as plt\n",
    "import scipy\n",
    "from scipy.io import loadmat\n",
    "from scipy import signal\n",
    "from pathlib import Path\n",
    "import h5py\n",
    "import utils\n",
    "from mpl_markers import axis_marker\n",
    "import sys\n",
    "import utils\n",
    "\n",
    "dir_ = Path.cwd()\n",
    "\n",
    "%config InlineBackend.figure_formats = ['svg']\n",
    "from IPython.display import HTML"
   ]
  },
  {
   "attachments": {},
   "cell_type": "markdown",
   "metadata": {
    "editable": true,
    "slideshow": {
     "slide_type": ""
    },
    "tags": []
   },
   "source": [
    "# ECE 6961 Wireless Communications\n",
    "## Project Part 2\n",
    "\n",
    "Group Members: Grant Brown, Thomas Warren, Rick Lyon"
   ]
  },
  {
   "attachments": {},
   "cell_type": "markdown",
   "metadata": {},
   "source": [
    "Setup\n",
    "---------\n",
    "\n",
    "To generate this report and the associated plots:\n",
    "\n",
    "1. Install Python 3.11.\n",
    "2. Open a terminal window and navigate to the directory containing the project files. \n",
    "2. Create an virtual environment for the report/project. See [here](https://docs.python.org/3/library/venv.html) for more information.  \n",
    "`> python -m venv .venv`\n",
    "4. In the newly created environment, install the required packages from the requirements.txt file included with the project files.  \n",
    "`(.venv) > pip install -r requirements.txt`\n",
    "5. Open the report with Jupyter Notebooks.  \n",
    "`(.venv) > jupyter notebook part2.ipynb`\n",
    "6. The notebook should open in the default browser. \n",
    "\n",
    "7. To generate the .html version of the report,  \n",
    "`(.venv) > jupyter nbconvert --to html part2.ipynb`"
   ]
  },
  {
   "cell_type": "code",
   "execution_count": null,
   "metadata": {},
   "outputs": [],
   "source": [
    "# parameters\n",
    "K = 2048 # number of subcarriers\n",
    "L = 200 # number of zero pad samples\n",
    "Fc = 24e3 # carrier frequency\n",
    "B = 8e3 # bandwidth\n",
    "W = 24 # number of OFDM symbols\n",
    "sps = 24 # samples per symbol\n",
    "fs_rx = 256e3 # sampling rate of recieiver\n",
    "fs_tx = 192e3\n",
    "Ts_rx = 1 / fs_rx\n",
    "Ts_tx = 1 / fs_tx\n",
    "\n",
    "############################################\n",
    "# load received dataset\n",
    "f = h5py.File(dir_ / \"data/benchmark_rece_data_174623_1472.mat\",'r')\n",
    "rxdata_raw = f[\"rece_data_ofdm_bench\"][:].flatten()\n",
    "\n",
    "# comp filter\n",
    "f = loadmat(dir_ / \"data/itc_1007_compfilter.mat\")\n",
    "comp_filter = f[\"h_comp\"][:].flatten()\n",
    "\n",
    "# get reference data\n",
    "f = h5py.File(dir_ / \"data/benchmark_parameter_174623_1472.mat\",'r')\n",
    "a_est_ref = f[\"a_est_174623\"][:].flatten()\n",
    "eps_ref = f[\"Epsil_Point_174623\"][:]\n",
    "n0_ref = f[\"START_at_beginning_174623\"][:]\n",
    "\n",
    "n0_1_ref = f[\"Start_Point_174623\"][:]\n",
    "\n",
    "f = h5py.File(dir_ / \"data/benchmark_Zw_174623_1472.mat\")\n",
    "z_ref = f[\"bb_rece_data_174623\"][:]\n",
    "z_ref = z_ref[\"real\"] + 1j * z_ref[\"imag\"]\n",
    "\n",
    "# reference zw includes the prefix, remove last 200 samples\n",
    "z_ref = z_ref[:, :-L]\n",
    "\n",
    "# get the null subcarrier index\n",
    "f = h5py.File(dir_ / \"data/ofdm_map.mat\",'r')\n",
    "null_subcarrier = f[\"ofdm_map\"][:].flatten()\n",
    "null_idx = np.argwhere(null_subcarrier == 0).squeeze()\n",
    "\n",
    "# pilot signal used to find the beginning of the data\n",
    "f = loadmat(dir_ / r\"data/pilot_signal_for_synchronization.mat\")\n",
    "pilot_signal = f[\"OFDM_data_pre_old\"][:].flatten()\n",
    "########################################"
   ]
  },
  {
   "cell_type": "markdown",
   "metadata": {},
   "source": [
    "## Bandpass Filter"
   ]
  },
  {
   "cell_type": "code",
   "execution_count": null,
   "metadata": {},
   "outputs": [],
   "source": [
    "fig, (ax1, ax2) = plt.subplots(2,1)\n",
    "\n",
    "# sampling rate of receiver is 256e3\n",
    "utils.plot_fft(rxdata_raw, fs_rx, ax=ax1)\n",
    "ax1.set_title(\"Unfiltered RX data\")\n",
    "ax1.set_xlim([-35, 35])\n",
    "ax1.set_ylim([0, 300])\n",
    "\n",
    "# bandpass filter \n",
    "sos = signal.butter(20, (Fc-4e3, Fc+4e3), btype=\"band\", output=\"sos\", fs=fs_rx)\n",
    "Ypb = signal.sosfilt(sos, rxdata_raw)\n",
    "utils.plot_fft(Ypb, fs_rx, ax=ax2)\n",
    "ax2.set_title(\"Filtered RX data\")\n",
    "ax2.set_xlim([-35, 35])\n",
    "ax2.set_ylim([0, 300])\n",
    "\n",
    "plt.tight_layout()"
   ]
  },
  {
   "cell_type": "markdown",
   "metadata": {},
   "source": [
    "## Correlate with Chirp Signal"
   ]
  },
  {
   "cell_type": "code",
   "execution_count": null,
   "metadata": {},
   "outputs": [],
   "source": [
    "# correlate last half of signal with three chirps\n",
    "Y_chirp = Ypb[:int(0.75*fs_rx)]\n",
    "\n",
    "chirp_corr_start = int(len(Ypb)/2)\n",
    "chirp_corr = signal.correlate(Ypb[chirp_corr_start:], Y_chirp, mode=\"same\")\n",
    "\n",
    "# get the index of the start of the chirps at the end of the signal\n",
    "chirp_i_1 = np.argmax(np.abs(chirp_corr)) - (len(Y_chirp) /2) + chirp_corr_start\n",
    "\n",
    "plt.figure()\n",
    "plt.plot(Ypb)\n",
    "m = axis_marker(chirp_i_1, xformatter=lambda x: \"{:.0f}\".format(x))\n",
    "plt.xlabel(\"Samples [n]\")\n",
    "plt.ylim([-0.1, 0.1])\n",
    "plt.grid()\n",
    "plt.show()"
   ]
  },
  {
   "cell_type": "markdown",
   "metadata": {},
   "source": [
    "## Estimate $\\tilde{a}$"
   ]
  },
  {
   "cell_type": "code",
   "execution_count": null,
   "metadata": {},
   "outputs": [],
   "source": [
    "# time between three chirps is 0.75 (0.05 for chirp plus 0.2 silence for each chirp).\n",
    "# at the receiver there are 191900 samples between each\n",
    "# T_signal_rx = #191900 * Ts_rx\n",
    "T_signal = 8.2695 # length of TX data signal + the preamble in time\n",
    "T_signal_rx = (chirp_i_1) * Ts_rx # length of the RX data up to the ending chirps\n",
    "a_est = (T_signal / T_signal_rx) - 1\n",
    "\n",
    "print(f\"a_est = {a_est:.2e}\")\n",
    "# a_est = a_est_ref"
   ]
  },
  {
   "cell_type": "markdown",
   "metadata": {},
   "source": [
    "## Resampling to remove Doppler shift"
   ]
  },
  {
   "cell_type": "code",
   "execution_count": null,
   "metadata": {},
   "outputs": [],
   "source": [
    "# resampling to remove the doppler shift, equation 7 in the paper. Since\n",
    "# a is positive, the rx signal is compressed from the tx signal, and this resampling\n",
    "# will stretch it out.\n",
    "Ypb_re = signal.resample_poly(Ypb, np.around((1 + a_est) * 1e5), 1e5)\n",
    "\n",
    "# resample the RX data to 192kHz so it's the same as the transmitter\n",
    "Ls = 192\n",
    "Ms = 256\n",
    "Nfir = Ls * Ls - 1\n",
    "wnd = signal.get_window(('kaiser', 7.8562), Nfir+1)\n",
    "h = Ls * signal.firwin(Nfir, 1/Ms, window=('kaiser', 7.8562))\n",
    "Ypb_re_txs = signal.upfirdn(h, Ypb_re, Ls, Ms)"
   ]
  },
  {
   "cell_type": "markdown",
   "metadata": {},
   "source": [
    "## Correlate with Pilot Signal"
   ]
  },
  {
   "cell_type": "code",
   "execution_count": null,
   "metadata": {},
   "outputs": [],
   "source": [
    "# correlate with pilot signal to get data starting point.\n",
    "# skip the preamble, which is 1 second\n",
    "n_start = int(fs_tx * 1)\n",
    "# only correlate with first 0.75s of signal\n",
    "n_stop = n_start + int(fs_tx * 0.75)\n",
    "pilot_corr = signal.correlate(Ypb_re_txs, pilot_signal, mode='valid')\n",
    "\n",
    "# use the peak of the correlation to extract the data part of the RX signal\n",
    "n0 = np.argmax(pilot_corr) + 70\n",
    "\n",
    "plt.figure()\n",
    "plt.plot(np.arange(len(Ypb_re_txs)) * Ts_tx, Ypb_re_txs)\n",
    "plt.xlabel(\"Time [s]\")\n",
    "axis_marker(n0 * Ts_tx)"
   ]
  },
  {
   "cell_type": "markdown",
   "metadata": {},
   "source": [
    "## Predistortion Filter"
   ]
  },
  {
   "cell_type": "code",
   "execution_count": null,
   "metadata": {},
   "outputs": [],
   "source": [
    "Ypb = np.convolve(Ypb_re_txs[n0:], comp_filter)[50:]\n",
    "\n",
    "plt.plot(Ypb)"
   ]
  },
  {
   "cell_type": "markdown",
   "metadata": {},
   "source": [
    "## Passband to Baseband"
   ]
  },
  {
   "cell_type": "code",
   "execution_count": null,
   "metadata": {},
   "outputs": [],
   "source": [
    "utils.plot_fft(Ypb, fs_tx)\n",
    "\n",
    "n = np.arange(0, len(Ypb))\n",
    "Ybb = Ypb * np.exp(-1j * Fc * 2* np.pi * n * Ts_tx)\n",
    "\n",
    "utils.plot_fft(Ybb, fs_tx)"
   ]
  },
  {
   "cell_type": "markdown",
   "metadata": {},
   "source": [
    "## Matched Filter"
   ]
  },
  {
   "cell_type": "code",
   "execution_count": null,
   "metadata": {},
   "outputs": [],
   "source": [
    "beta = 0.125 # roll off factor\n",
    "n = np.arange(-sps*100, sps*100) \n",
    "t = np.arange(len(n)) * Ts_tx\n",
    "R = utils.srrc_pulse(n, sps, beta)\n",
    "\n",
    "fig, ax = plt.subplots(1,1, figsize=(7, 4))\n",
    "ax.plot(t, R)\n",
    "\n",
    "Ybb_f = np.convolve(Ybb, R)\n",
    "\n",
    "# remove the delay caused by filter\n",
    "delay_s = (100 * sps)\n",
    "Ybb_f = Ybb_f[delay_s:-delay_s]\n",
    "\n",
    "utils.plot_fft(Ybb_f, fs_tx)\n",
    "plt.xlim([-10, 10])\n"
   ]
  },
  {
   "cell_type": "markdown",
   "metadata": {},
   "source": [
    "## Doppler Resampling and Carrier Frequency Compensation"
   ]
  },
  {
   "cell_type": "code",
   "execution_count": null,
   "metadata": {},
   "outputs": [],
   "source": [
    "\n",
    "def apply_cfo_vectorized(data, eps_vec, n0_vec):\n",
    "    \n",
    "    data_ds = np.zeros((len(n0_vec), (K+L-1)), dtype='complex128')\n",
    "    n_sample_vec = np.zeros((len(n0_vec), (K+L-1)))\n",
    "    # downsample the data to the 8k data rate, at each starting n0 point\n",
    "    for i, n0_i in enumerate(n0_vec):\n",
    "        data_ds[i] = data[n0_i:n0_i+(K+L-1)*sps:sps] \n",
    "    \n",
    "        # cfo compensation exponential, vectorized over each eps value in the grid along the rows\n",
    "        n_sample_vec[i] = np.arange(n0_i, n0_i+(K+L-1)*sps, sps)\n",
    "\n",
    "    # CFO vector, shape is eps_vec, n0_vec, K+L-1\n",
    "    cfo = np.exp(-1j * 2 * np.pi * eps_vec[..., None, None] * n_sample_vec[None] * Ts_tx)\n",
    "\n",
    "    # apply the cfo compensation\n",
    "    data_cfo = data_ds[None] * cfo\n",
    "\n",
    "    # create modified DFT matrix (overlap add)\n",
    "    k, m = np.meshgrid(np.arange(K+L-1), np.arange(K))\n",
    "    Gm = np.exp(-1j * 2*np.pi * m * k / K)\n",
    "\n",
    "    # apply DFT with matrix multiplication\n",
    "    Zm = np.einsum(\"ij,...j->...i\", Gm, data_cfo)\n",
    "\n",
    "    # sum the power in the null subcarriers\n",
    "    Pnull = np.sum(np.abs(Zm[..., null_idx])**2, axis=-1)\n",
    "\n",
    "    # get the index of the minimum power\n",
    "    eps_min_i, n0_min_i = np.unravel_index(np.argmin(Pnull), Pnull.shape)\n",
    "    # return the eps with the lowest null power, and the null power for that eps\n",
    "    return eps_vec[eps_min_i], int(n0_vec[n0_min_i]), Pnull[eps_min_i, n0_min_i]\n",
    "\n",
    "n0_vec = np.arange(2300, 2600, 10)\n",
    "eps_vec = np.arange(-1, 1.1, 0.1)\n",
    "w0_eps0, w0_n0, min_pwr0 = apply_cfo_vectorized(Ybb_f, eps_vec, n0_vec)\n",
    "\n",
    "print(f\"OFDM Symbol 1: eps={w0_eps0:.2f}, n0={w0_n0}, Null Power={min_pwr0:.2f}\")"
   ]
  },
  {
   "cell_type": "code",
   "execution_count": null,
   "metadata": {},
   "outputs": [],
   "source": [
    "sym_n0 = np.zeros(W)\n",
    "sym_eps = np.zeros(W)\n",
    "\n",
    "for w in range(W):\n",
    "    n0_w = w0_n0 + ((K + L -1) * sps)*w\n",
    "    n0_vec = np.arange(n0_w - (2 * sps), n0_w + (2 * sps), 2)\n",
    "    eps_vec = np.arange(-1, 1.1, 0.1)\n",
    "    sym_eps[w], sym_n0[w], min_pwr0 = apply_cfo_vectorized(Ybb_f, eps_vec, n0_vec)\n",
    "\n",
    "    sys.stdout.write(f\"\\rSymbol {w+1}/24: eps={sym_eps[w]:.2f}, n0={sym_n0[w]}, Null Power={min_pwr0:.2f}\\t\\t\\t\\t\\t\\t\")\n"
   ]
  },
  {
   "cell_type": "code",
   "execution_count": null,
   "metadata": {},
   "outputs": [],
   "source": [
    "def apply_cfo(data, n0_i, eps_j):\n",
    "    n_vec = np.arange(n0_i, n0_i+(K+L-1)*sps, 1)\n",
    "    data_cfo = data[n0_i:n0_i+(K+L-1)*sps] * np.exp(-1j * 2 * np.pi * eps_j * n_vec * Ts_tx)\n",
    "\n",
    "    # downsample to the data rate (8k)\n",
    "    y_m = data_cfo[::sps]\n",
    "\n",
    "    # create modified DFT matrix (overlap add)\n",
    "    k, m = np.meshgrid(np.arange(K+L-1), np.arange(K))\n",
    "    Gm = np.exp(-1j * 2*np.pi * m * k / K)\n",
    "    # apply DFT with matrix multiplication\n",
    "    Zm = np.einsum(\"ij,j->i\", Gm, y_m)\n",
    "\n",
    "    return Zm\n",
    "\n",
    "Zm0 = apply_cfo(Ybb_f, w0_n0, w0_eps0)\n",
    "\n",
    "plt.figure()\n",
    "plt.plot(np.abs(Zm0))\n",
    "plt.plot(np.abs(z_ref[0]), alpha=0.5)\n",
    "\n",
    "plt.figure()\n",
    "plt.scatter(np.real(Zm0[:5]), np.imag(Zm0[:5]))\n",
    "plt.scatter(np.real(z_ref[0,:5]), np.imag(z_ref[0,:5]))\n",
    "plt.xlim([-1, 1])\n",
    "plt.ylim([-1, 1])\n",
    "plt.grid(True)\n",
    "\n"
   ]
  },
  {
   "cell_type": "markdown",
   "metadata": {},
   "source": []
  }
 ],
 "metadata": {
  "kernelspec": {
   "display_name": "Python 3 (ipykernel)",
   "language": "python",
   "name": "python3"
  },
  "language_info": {
   "codemirror_mode": {
    "name": "ipython",
    "version": 3
   },
   "file_extension": ".py",
   "mimetype": "text/x-python",
   "name": "python",
   "nbconvert_exporter": "python",
   "pygments_lexer": "ipython3",
   "version": "3.11.4"
  }
 },
 "nbformat": 4,
 "nbformat_minor": 4
}
