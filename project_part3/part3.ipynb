{
 "cells": [
  {
   "cell_type": "code",
   "execution_count": 2,
   "metadata": {},
   "outputs": [],
   "source": [
    "import numpy as np\n",
    "import matplotlib.pyplot as plt\n",
    "import scipy\n",
    "from scipy.io import loadmat\n",
    "from scipy import signal\n",
    "from pathlib import Path\n",
    "import h5py\n",
    "import utils\n",
    "from mpl_markers import axis_marker\n",
    "import sys\n",
    "import utils\n",
    "import mat73\n",
    "\n",
    "dir_ = Path.cwd()\n",
    "\n",
    "%config InlineBackend.figure_formats = ['svg']\n",
    "from IPython.display import HTML"
   ]
  },
  {
   "cell_type": "markdown",
   "metadata": {},
   "source": [
    "# ECE 6961 Wireless Communications\n",
    "## Project Part 2\n",
    "\n",
    "Group Members: Grant Brown, Thomas Warren, Rick Lyon"
   ]
  },
  {
   "cell_type": "markdown",
   "metadata": {},
   "source": [
    "Setup\n",
    "---------\n",
    "\n",
    "To generate this report and the associated plots:\n",
    "\n",
    "1. Install Python 3.11.\n",
    "2. Open a terminal window and navigate to the directory containing the project files. \n",
    "2. Create an virtual environment for the report/project. See [here](https://docs.python.org/3/library/venv.html) for more information.  \n",
    "`> python -m venv .venv`\n",
    "4. In the newly created environment, install the required packages from the requirements.txt file included with the project files.  \n",
    "`(.venv) > pip install -r requirements.txt`\n",
    "5. Open the report with Jupyter Notebooks.  \n",
    "`(.venv) > jupyter notebook part3.ipynb`\n",
    "6. The notebook should open in the default browser. \n",
    "\n",
    "7. To generate the .html version of the report,  \n",
    "`(.venv) > jupyter nbconvert --to html part3.ipynb`"
   ]
  },
  {
   "cell_type": "code",
   "execution_count": 16,
   "metadata": {},
   "outputs": [],
   "source": [
    "# parameters\n",
    "K = 2048 # number of subcarriers\n",
    "L = 200 # number of zero pad samples\n",
    "Fc = 24e3 # carrier frequency\n",
    "B = 8e3 # bandwidth\n",
    "W = 24 # number of OFDM symbols\n",
    "sps = 24 # samples per symbol\n",
    "fs_rx = 256e3 # sampling rate of recieiver\n",
    "fs_tx = 192e3\n",
    "Ts_rx = 1 / fs_rx\n",
    "Ts_tx = 1 / fs_tx\n",
    "k_p = 512\n",
    "k_d = 1420\n",
    "k_n = 112\n",
    "\n",
    "############################################\n",
    "pilot_data = mat73.loadmat(\"data/OFDM_PILOT.mat\")\n",
    "pilot_data = pilot_data[\"OFDM_PILOT\"]\n",
    "\n",
    "#Create pilot identity matrix\n",
    "pilot_tap_matrix = np.eye(pilot_data.shape[0], dtype=np.complex64)\n",
    "for i in range(0,pilot_data.shape[0]):\n",
    "    pilot_tap_matrix[i][i] = pilot_data[i]\n",
    "V = utils.dftmtx(pilot_tap_matrix.shape[0])\n",
    "\n",
    "benchmark_zw_data_1 = mat73.loadmat(\"data/benchmark_Zw_172648_1.mat\")\n",
    "benchmark_zw_data_1 = benchmark_zw_data_1[\"bb_rece_data_172648_1474\"]\n",
    "\n",
    "ofdm_map = mat73.loadmat(\"data/ofdm_map.mat\")\n",
    "ofdm_map = ofdm_map[\"ofdm_map\"]\n",
    "pilot_indicies = np.argwhere(ofdm_map==1.0)\n",
    "pilot_zw = np.empty([k_p, 1], dtype=np.complex64)\n",
    "for i, p_i in enumerate(pilot_indicies):\n",
    "    pilot_zw[i] = benchmark_zw_data_1[p_i,1]\n"
   ]
  },
  {
   "cell_type": "markdown",
   "metadata": {},
   "source": [
    "### Task 1a - Pilot-based least squares channel estimation"
   ]
  },
  {
   "cell_type": "code",
   "execution_count": 14,
   "metadata": {},
   "outputs": [
    {
     "name": "stdout",
     "output_type": "stream",
     "text": [
      "test\n"
     ]
    }
   ],
   "source": [
    "test = np.asmatrix(V).getH()*np.asmatrix(pilot_tap_matrix).getH()\n",
    "h_ls = (1/k_p)*(np.asmatrix(V).getH()*np.asmatrix(pilot_tap_matrix).getH())*(np.asmatrix(benchmark_zw_data_1[200:,:]))\n",
    "V_h = utils.dftmtx(h_ls.shape[0])\n",
    "H_LS_W = np.matmul(V_h, h_ls)"
   ]
  },
  {
   "cell_type": "markdown",
   "metadata": {},
   "source": [
    "### Task 1b - One-Tap Equalizer"
   ]
  },
  {
   "cell_type": "code",
   "execution_count": 24,
   "metadata": {},
   "outputs": [
    {
     "name": "stderr",
     "output_type": "stream",
     "text": [
      "Traceback (most recent call last):\n",
      "  File \"/opt/homebrew/anaconda3/envs/signals/lib/python3.11/site-packages/debugpy/_vendored/pydevd/_pydevd_bundle/pydevd_vars.py\", line 624, in change_attr_expression\n",
      "    value = eval(expression, frame.f_globals, frame.f_locals)\n",
      "            ^^^^^^^^^^^^^^^^^^^^^^^^^^^^^^^^^^^^^^^^^^^^^^^^^\n",
      "  File \"<string>\", line 1, in <module>\n",
      "NameError: name 'array' is not defined\n"
     ]
    }
   ],
   "source": [
    "data_indicies = np.argwhere(ofdm_map==2.0)\n",
    "data_zw = np.empty([k_d, 1], dtype=np.complex64)\n",
    "for i, p_i in enumerate(data_indicies):\n",
    "    data_zw[i] = benchmark_zw_data_1[p_i,1]\n",
    "\n",
    "null_indicies = np.argwhere(ofdm_map==0.0)\n",
    "null_zw = np.empty([k_n, 1], dtype=np.complex64)\n",
    "for i, p_i in enumerate(null_indicies):\n",
    "    null_zw[i] = benchmark_zw_data_1[p_i,1]\n",
    "\n",
    "two_sigma_squared = (1/k_n)*(np.square(np.linalg.norm(null_zw)))\n",
    "\n",
    "x_1 = 1/np.sqrt(2) + 1j*1/np.sqrt(2)\n",
    "x_2 = 1/np.sqrt(2) - 1j*1/np.sqrt(2)\n",
    "x_3 = 1/np.sqrt(2) - 1j*1/np.sqrt(2)\n",
    "x_4 = -1/np.sqrt(2) - 1j*1/np.sqrt(2)\n",
    "\n",
    "A_n = np.empty([k_d, 1], dtype=np.float64)\n",
    "B_n_b0 = np.empty([k_d, 1], dtype=np.float64)\n",
    "B_n_b1 = np.empty([k_d, 1], dtype=np.float64)\n",
    "A_d_b0 = np.empty([k_d, 1], dtype=np.float64)\n",
    "A_d_b1 = np.empty([k_d, 1], dtype=np.float64)\n",
    "B_d = np.empty([k_d, 1], dtype=np.float64)\n",
    "\n",
    "for i in range(data_zw.shape[0]):\n",
    "    A_n[i] = np.square(np.linalg.norm(data_zw[i] - H_LS_W[data_indicies[i]]*x_1))\n",
    "    B_n_b0[i] = np.square(np.linalg.norm(data_zw[i] - H_LS_W[data_indicies[i]]*x_3))\n",
    "    B_n_b1[i] = np.square(np.linalg.norm(data_zw[i] - H_LS_W[data_indicies[i]]*x_2))\n",
    "    A_d_b0[i] = np.square(np.linalg.norm(data_zw[i] - H_LS_W[data_indicies[i]]*x_2))\n",
    "    A_d_b1[i] = np.square(np.linalg.norm(data_zw[i] - H_LS_W[data_indicies[i]]*x_3))\n",
    "    B_d[i] = np.square(np.linalg.norm(data_zw[i] - H_LS_W[data_indicies[i]]*x_4))\n",
    "\n",
    "for i in range(data_zw.shape[0]):\n",
    "    b_0_n = np.max(A_n[i], B_n_b0[i]) + np.log(1+np.exp(-1*np.abs(B_n_b0[i]-A_n[i])))\n",
    "    b_0_d = np.max(A_d_b0[i], B_d[i]) + np.log(1+np.exp(-1*np.abs(B_d[i]-A_d_b0[i])))\n",
    "    b_1_n = np.max(A_n[i], B_n_b1[i]) + np.log(1+np.exp(-1*np.abs(B_n_b1[i]-A_n[i])))\n",
    "    b_1_d = np.max(A_d_b1[i], B_d[i]) + np.log(1+np.exp(-1*np.abs(B_d[i]-A_d_b1[i])))\n",
    "\n",
    "\n",
    "for i in range(data_zw.shape[0]):\n",
    "    pass"
   ]
  }
 ],
 "metadata": {
  "kernelspec": {
   "display_name": "signals",
   "language": "python",
   "name": "python3"
  },
  "language_info": {
   "codemirror_mode": {
    "name": "ipython",
    "version": 3
   },
   "file_extension": ".py",
   "mimetype": "text/x-python",
   "name": "python",
   "nbconvert_exporter": "python",
   "pygments_lexer": "ipython3",
   "version": "3.11.4"
  },
  "orig_nbformat": 4
 },
 "nbformat": 4,
 "nbformat_minor": 2
}
